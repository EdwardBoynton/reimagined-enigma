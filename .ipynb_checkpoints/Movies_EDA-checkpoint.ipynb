{
 "cells": [
  {
   "cell_type": "markdown",
   "id": "8917b905-2af2-4ec8-b689-2265848281c5",
   "metadata": {},
   "source": [
    "  # Movies EDA "
   ]
  },
  {
   "cell_type": "markdown",
   "id": "21a29187-8379-4252-b079-795c38201397",
   "metadata": {
    "tags": []
   },
   "source": [
    "### **1.0 Importing Libraries**\n"
   ]
  },
  {
   "cell_type": "code",
   "execution_count": 1,
   "id": "27dd22ed-14d4-45ca-a06e-47315d7360f8",
   "metadata": {
    "tags": []
   },
   "outputs": [],
   "source": [
    "import numpy as np  \n",
    "import seaborn as sns \n",
    "import matplotlib.pyplot as plt \n",
    "import pandas as pd \n",
    "import ast \n"
   ]
  },
  {
   "cell_type": "markdown",
   "id": "ba689210-1da0-4ab8-b1d5-90983b8f38c1",
   "metadata": {
    "tags": []
   },
   "source": [
    "### **2.0 Importing the data**"
   ]
  },
  {
   "cell_type": "code",
   "execution_count": 3,
   "id": "c30c679e-7dc4-4d74-b636-18b7184e7537",
   "metadata": {
    "tags": []
   },
   "outputs": [],
   "source": [
    "path = r\"C:\\Users\\edwar\\Documents\\GitHub\\reimagined-enigma\\TMDB_movies (1).csv\"\n",
    "\n",
    "\n",
    "df = pd.read_csv(path) "
   ]
  },
  {
   "cell_type": "markdown",
   "id": "cdd1a358-955f-485b-9ceb-9006e7a7d4a7",
   "metadata": {
    "tags": []
   },
   "source": [
    "### **3.0 Initial analysis**"
   ]
  },
  {
   "cell_type": "markdown",
   "id": "91a198a9-0c33-425f-902a-fe855a1d1c9a",
   "metadata": {},
   "source": [
    "* No redundant columns \n",
    "* Some columns are made up of dictionaries"
   ]
  },
  {
   "cell_type": "code",
   "execution_count": 4,
   "id": "b757a97c-3e13-4cae-92e8-9ee5221b07a8",
   "metadata": {
    "tags": []
   },
   "outputs": [
    {
     "data": {
      "text/html": [
       "<div>\n",
       "<style scoped>\n",
       "    .dataframe tbody tr th:only-of-type {\n",
       "        vertical-align: middle;\n",
       "    }\n",
       "\n",
       "    .dataframe tbody tr th {\n",
       "        vertical-align: top;\n",
       "    }\n",
       "\n",
       "    .dataframe thead th {\n",
       "        text-align: right;\n",
       "    }\n",
       "</style>\n",
       "<table border=\"1\" class=\"dataframe\">\n",
       "  <thead>\n",
       "    <tr style=\"text-align: right;\">\n",
       "      <th></th>\n",
       "      <th>budget</th>\n",
       "      <th>genres</th>\n",
       "      <th>homepage</th>\n",
       "      <th>id</th>\n",
       "      <th>keywords</th>\n",
       "      <th>original_language</th>\n",
       "      <th>original_title</th>\n",
       "      <th>overview</th>\n",
       "      <th>popularity</th>\n",
       "      <th>production_companies</th>\n",
       "      <th>production_countries</th>\n",
       "      <th>release_date</th>\n",
       "      <th>revenue</th>\n",
       "      <th>runtime</th>\n",
       "      <th>spoken_languages</th>\n",
       "      <th>status</th>\n",
       "      <th>tagline</th>\n",
       "      <th>title</th>\n",
       "      <th>vote_average</th>\n",
       "      <th>vote_count</th>\n",
       "    </tr>\n",
       "  </thead>\n",
       "  <tbody>\n",
       "    <tr>\n",
       "      <th>0</th>\n",
       "      <td>237000000</td>\n",
       "      <td>[{\"id\": 28, \"name\": \"Action\"}, {\"id\": 12, \"nam...</td>\n",
       "      <td>http://www.avatarmovie.com/</td>\n",
       "      <td>19995</td>\n",
       "      <td>[{\"id\": 1463, \"name\": \"culture clash\"}, {\"id\":...</td>\n",
       "      <td>en</td>\n",
       "      <td>Avatar</td>\n",
       "      <td>In the 22nd century, a paraplegic Marine is di...</td>\n",
       "      <td>150.437577</td>\n",
       "      <td>[{\"name\": \"Ingenious Film Partners\", \"id\": 289...</td>\n",
       "      <td>[{\"iso_3166_1\": \"US\", \"name\": \"United States o...</td>\n",
       "      <td>2009-12-10</td>\n",
       "      <td>2787965087</td>\n",
       "      <td>162.0</td>\n",
       "      <td>[{\"iso_639_1\": \"en\", \"name\": \"English\"}, {\"iso...</td>\n",
       "      <td>Released</td>\n",
       "      <td>Enter the World of Pandora.</td>\n",
       "      <td>Avatar</td>\n",
       "      <td>7.2</td>\n",
       "      <td>11800</td>\n",
       "    </tr>\n",
       "    <tr>\n",
       "      <th>1</th>\n",
       "      <td>300000000</td>\n",
       "      <td>[{\"id\": 12, \"name\": \"Adventure\"}, {\"id\": 14, \"...</td>\n",
       "      <td>http://disney.go.com/disneypictures/pirates/</td>\n",
       "      <td>285</td>\n",
       "      <td>[{\"id\": 270, \"name\": \"ocean\"}, {\"id\": 726, \"na...</td>\n",
       "      <td>en</td>\n",
       "      <td>Pirates of the Caribbean: At World's End</td>\n",
       "      <td>Captain Barbossa, long believed to be dead, ha...</td>\n",
       "      <td>139.082615</td>\n",
       "      <td>[{\"name\": \"Walt Disney Pictures\", \"id\": 2}, {\"...</td>\n",
       "      <td>[{\"iso_3166_1\": \"US\", \"name\": \"United States o...</td>\n",
       "      <td>2007-05-19</td>\n",
       "      <td>961000000</td>\n",
       "      <td>169.0</td>\n",
       "      <td>[{\"iso_639_1\": \"en\", \"name\": \"English\"}]</td>\n",
       "      <td>Released</td>\n",
       "      <td>At the end of the world, the adventure begins.</td>\n",
       "      <td>Pirates of the Caribbean: At World's End</td>\n",
       "      <td>6.9</td>\n",
       "      <td>4500</td>\n",
       "    </tr>\n",
       "    <tr>\n",
       "      <th>2</th>\n",
       "      <td>245000000</td>\n",
       "      <td>[{\"id\": 28, \"name\": \"Action\"}, {\"id\": 12, \"nam...</td>\n",
       "      <td>http://www.sonypictures.com/movies/spectre/</td>\n",
       "      <td>206647</td>\n",
       "      <td>[{\"id\": 470, \"name\": \"spy\"}, {\"id\": 818, \"name...</td>\n",
       "      <td>en</td>\n",
       "      <td>Spectre</td>\n",
       "      <td>A cryptic message from Bond’s past sends him o...</td>\n",
       "      <td>107.376788</td>\n",
       "      <td>[{\"name\": \"Columbia Pictures\", \"id\": 5}, {\"nam...</td>\n",
       "      <td>[{\"iso_3166_1\": \"GB\", \"name\": \"United Kingdom\"...</td>\n",
       "      <td>2015-10-26</td>\n",
       "      <td>880674609</td>\n",
       "      <td>148.0</td>\n",
       "      <td>[{\"iso_639_1\": \"fr\", \"name\": \"Fran\\u00e7ais\"},...</td>\n",
       "      <td>Released</td>\n",
       "      <td>A Plan No One Escapes</td>\n",
       "      <td>Spectre</td>\n",
       "      <td>6.3</td>\n",
       "      <td>4466</td>\n",
       "    </tr>\n",
       "    <tr>\n",
       "      <th>3</th>\n",
       "      <td>250000000</td>\n",
       "      <td>[{\"id\": 28, \"name\": \"Action\"}, {\"id\": 80, \"nam...</td>\n",
       "      <td>http://www.thedarkknightrises.com/</td>\n",
       "      <td>49026</td>\n",
       "      <td>[{\"id\": 849, \"name\": \"dc comics\"}, {\"id\": 853,...</td>\n",
       "      <td>en</td>\n",
       "      <td>The Dark Knight Rises</td>\n",
       "      <td>Following the death of District Attorney Harve...</td>\n",
       "      <td>112.312950</td>\n",
       "      <td>[{\"name\": \"Legendary Pictures\", \"id\": 923}, {\"...</td>\n",
       "      <td>[{\"iso_3166_1\": \"US\", \"name\": \"United States o...</td>\n",
       "      <td>2012-07-16</td>\n",
       "      <td>1084939099</td>\n",
       "      <td>165.0</td>\n",
       "      <td>[{\"iso_639_1\": \"en\", \"name\": \"English\"}]</td>\n",
       "      <td>Released</td>\n",
       "      <td>The Legend Ends</td>\n",
       "      <td>The Dark Knight Rises</td>\n",
       "      <td>7.6</td>\n",
       "      <td>9106</td>\n",
       "    </tr>\n",
       "    <tr>\n",
       "      <th>4</th>\n",
       "      <td>260000000</td>\n",
       "      <td>[{\"id\": 28, \"name\": \"Action\"}, {\"id\": 12, \"nam...</td>\n",
       "      <td>http://movies.disney.com/john-carter</td>\n",
       "      <td>49529</td>\n",
       "      <td>[{\"id\": 818, \"name\": \"based on novel\"}, {\"id\":...</td>\n",
       "      <td>en</td>\n",
       "      <td>John Carter</td>\n",
       "      <td>John Carter is a war-weary, former military ca...</td>\n",
       "      <td>43.926995</td>\n",
       "      <td>[{\"name\": \"Walt Disney Pictures\", \"id\": 2}]</td>\n",
       "      <td>[{\"iso_3166_1\": \"US\", \"name\": \"United States o...</td>\n",
       "      <td>2012-03-07</td>\n",
       "      <td>284139100</td>\n",
       "      <td>132.0</td>\n",
       "      <td>[{\"iso_639_1\": \"en\", \"name\": \"English\"}]</td>\n",
       "      <td>Released</td>\n",
       "      <td>Lost in our world, found in another.</td>\n",
       "      <td>John Carter</td>\n",
       "      <td>6.1</td>\n",
       "      <td>2124</td>\n",
       "    </tr>\n",
       "  </tbody>\n",
       "</table>\n",
       "</div>"
      ],
      "text/plain": [
       "      budget                                             genres  \\\n",
       "0  237000000  [{\"id\": 28, \"name\": \"Action\"}, {\"id\": 12, \"nam...   \n",
       "1  300000000  [{\"id\": 12, \"name\": \"Adventure\"}, {\"id\": 14, \"...   \n",
       "2  245000000  [{\"id\": 28, \"name\": \"Action\"}, {\"id\": 12, \"nam...   \n",
       "3  250000000  [{\"id\": 28, \"name\": \"Action\"}, {\"id\": 80, \"nam...   \n",
       "4  260000000  [{\"id\": 28, \"name\": \"Action\"}, {\"id\": 12, \"nam...   \n",
       "\n",
       "                                       homepage      id  \\\n",
       "0                   http://www.avatarmovie.com/   19995   \n",
       "1  http://disney.go.com/disneypictures/pirates/     285   \n",
       "2   http://www.sonypictures.com/movies/spectre/  206647   \n",
       "3            http://www.thedarkknightrises.com/   49026   \n",
       "4          http://movies.disney.com/john-carter   49529   \n",
       "\n",
       "                                            keywords original_language  \\\n",
       "0  [{\"id\": 1463, \"name\": \"culture clash\"}, {\"id\":...                en   \n",
       "1  [{\"id\": 270, \"name\": \"ocean\"}, {\"id\": 726, \"na...                en   \n",
       "2  [{\"id\": 470, \"name\": \"spy\"}, {\"id\": 818, \"name...                en   \n",
       "3  [{\"id\": 849, \"name\": \"dc comics\"}, {\"id\": 853,...                en   \n",
       "4  [{\"id\": 818, \"name\": \"based on novel\"}, {\"id\":...                en   \n",
       "\n",
       "                             original_title  \\\n",
       "0                                    Avatar   \n",
       "1  Pirates of the Caribbean: At World's End   \n",
       "2                                   Spectre   \n",
       "3                     The Dark Knight Rises   \n",
       "4                               John Carter   \n",
       "\n",
       "                                            overview  popularity  \\\n",
       "0  In the 22nd century, a paraplegic Marine is di...  150.437577   \n",
       "1  Captain Barbossa, long believed to be dead, ha...  139.082615   \n",
       "2  A cryptic message from Bond’s past sends him o...  107.376788   \n",
       "3  Following the death of District Attorney Harve...  112.312950   \n",
       "4  John Carter is a war-weary, former military ca...   43.926995   \n",
       "\n",
       "                                production_companies  \\\n",
       "0  [{\"name\": \"Ingenious Film Partners\", \"id\": 289...   \n",
       "1  [{\"name\": \"Walt Disney Pictures\", \"id\": 2}, {\"...   \n",
       "2  [{\"name\": \"Columbia Pictures\", \"id\": 5}, {\"nam...   \n",
       "3  [{\"name\": \"Legendary Pictures\", \"id\": 923}, {\"...   \n",
       "4        [{\"name\": \"Walt Disney Pictures\", \"id\": 2}]   \n",
       "\n",
       "                                production_countries release_date     revenue  \\\n",
       "0  [{\"iso_3166_1\": \"US\", \"name\": \"United States o...   2009-12-10  2787965087   \n",
       "1  [{\"iso_3166_1\": \"US\", \"name\": \"United States o...   2007-05-19   961000000   \n",
       "2  [{\"iso_3166_1\": \"GB\", \"name\": \"United Kingdom\"...   2015-10-26   880674609   \n",
       "3  [{\"iso_3166_1\": \"US\", \"name\": \"United States o...   2012-07-16  1084939099   \n",
       "4  [{\"iso_3166_1\": \"US\", \"name\": \"United States o...   2012-03-07   284139100   \n",
       "\n",
       "   runtime                                   spoken_languages    status  \\\n",
       "0    162.0  [{\"iso_639_1\": \"en\", \"name\": \"English\"}, {\"iso...  Released   \n",
       "1    169.0           [{\"iso_639_1\": \"en\", \"name\": \"English\"}]  Released   \n",
       "2    148.0  [{\"iso_639_1\": \"fr\", \"name\": \"Fran\\u00e7ais\"},...  Released   \n",
       "3    165.0           [{\"iso_639_1\": \"en\", \"name\": \"English\"}]  Released   \n",
       "4    132.0           [{\"iso_639_1\": \"en\", \"name\": \"English\"}]  Released   \n",
       "\n",
       "                                          tagline  \\\n",
       "0                     Enter the World of Pandora.   \n",
       "1  At the end of the world, the adventure begins.   \n",
       "2                           A Plan No One Escapes   \n",
       "3                                 The Legend Ends   \n",
       "4            Lost in our world, found in another.   \n",
       "\n",
       "                                      title  vote_average  vote_count  \n",
       "0                                    Avatar           7.2       11800  \n",
       "1  Pirates of the Caribbean: At World's End           6.9        4500  \n",
       "2                                   Spectre           6.3        4466  \n",
       "3                     The Dark Knight Rises           7.6        9106  \n",
       "4                               John Carter           6.1        2124  "
      ]
     },
     "execution_count": 4,
     "metadata": {},
     "output_type": "execute_result"
    }
   ],
   "source": [
    "df.head()"
   ]
  },
  {
   "cell_type": "code",
   "execution_count": 5,
   "id": "9d5aa356-1483-4346-b8f8-929d748d2190",
   "metadata": {
    "tags": []
   },
   "outputs": [
    {
     "data": {
      "text/plain": [
       "(4803, 20)"
      ]
     },
     "execution_count": 5,
     "metadata": {},
     "output_type": "execute_result"
    }
   ],
   "source": [
    "df.shape\n",
    "## 4803 rows\n",
    "## 20 columns"
   ]
  },
  {
   "cell_type": "code",
   "execution_count": 8,
   "id": "c0dcd87c-1d67-4e29-9764-92fde34bcaf6",
   "metadata": {
    "tags": []
   },
   "outputs": [
    {
     "data": {
      "text/plain": [
       "budget                    int64\n",
       "genres                   object\n",
       "homepage                 object\n",
       "id                        int64\n",
       "keywords                 object\n",
       "original_language        object\n",
       "original_title           object\n",
       "overview                 object\n",
       "popularity              float64\n",
       "production_companies     object\n",
       "production_countries     object\n",
       "release_date             object\n",
       "revenue                   int64\n",
       "runtime                 float64\n",
       "spoken_languages         object\n",
       "status                   object\n",
       "tagline                  object\n",
       "title                    object\n",
       "vote_average            float64\n",
       "vote_count                int64\n",
       "dtype: object"
      ]
     },
     "execution_count": 8,
     "metadata": {},
     "output_type": "execute_result"
    }
   ],
   "source": [
    "df.dtypes\n",
    "## 4 int\n",
    "## 3 float\n",
    "## 13 object"
   ]
  },
  {
   "cell_type": "code",
   "execution_count": 7,
   "id": "c05e935a-299b-4a4b-baeb-d0713cfcb182",
   "metadata": {
    "tags": []
   },
   "outputs": [
    {
     "name": "stdout",
     "output_type": "stream",
     "text": [
      "<class 'pandas.core.frame.DataFrame'>\n",
      "RangeIndex: 4803 entries, 0 to 4802\n",
      "Data columns (total 20 columns):\n",
      " #   Column                Non-Null Count  Dtype  \n",
      "---  ------                --------------  -----  \n",
      " 0   budget                4803 non-null   int64  \n",
      " 1   genres                4803 non-null   object \n",
      " 2   homepage              1712 non-null   object \n",
      " 3   id                    4803 non-null   int64  \n",
      " 4   keywords              4803 non-null   object \n",
      " 5   original_language     4803 non-null   object \n",
      " 6   original_title        4803 non-null   object \n",
      " 7   overview              4800 non-null   object \n",
      " 8   popularity            4803 non-null   float64\n",
      " 9   production_companies  4803 non-null   object \n",
      " 10  production_countries  4803 non-null   object \n",
      " 11  release_date          4802 non-null   object \n",
      " 12  revenue               4803 non-null   int64  \n",
      " 13  runtime               4801 non-null   float64\n",
      " 14  spoken_languages      4803 non-null   object \n",
      " 15  status                4803 non-null   object \n",
      " 16  tagline               3959 non-null   object \n",
      " 17  title                 4803 non-null   object \n",
      " 18  vote_average          4803 non-null   float64\n",
      " 19  vote_count            4803 non-null   int64  \n",
      "dtypes: float64(3), int64(4), object(13)\n",
      "memory usage: 750.6+ KB\n"
     ]
    }
   ],
   "source": [
    "df.info()\n",
    "## Nulls found"
   ]
  },
  {
   "cell_type": "markdown",
   "id": "a2405bbd-2fa8-4579-9ebf-fa0f58f2871e",
   "metadata": {
    "tags": []
   },
   "source": [
    "### **4.0 nulls**"
   ]
  },
  {
   "cell_type": "code",
   "execution_count": 9,
   "id": "4e97387d-d73f-40a5-b81c-6770cf69c942",
   "metadata": {
    "tags": []
   },
   "outputs": [
    {
     "data": {
      "text/plain": [
       "budget                     0\n",
       "genres                     0\n",
       "homepage                3091\n",
       "id                         0\n",
       "keywords                   0\n",
       "original_language          0\n",
       "original_title             0\n",
       "overview                   3\n",
       "popularity                 0\n",
       "production_companies       0\n",
       "production_countries       0\n",
       "release_date               1\n",
       "revenue                    0\n",
       "runtime                    2\n",
       "spoken_languages           0\n",
       "status                     0\n",
       "tagline                  844\n",
       "title                      0\n",
       "vote_average               0\n",
       "vote_count                 0\n",
       "dtype: int64"
      ]
     },
     "execution_count": 9,
     "metadata": {},
     "output_type": "execute_result"
    }
   ],
   "source": [
    "null_df = df.isnull() ## Creating a table of nulls\n",
    "null_df.sum() ## Summing the nulls in each of the columns"
   ]
  },
  {
   "cell_type": "markdown",
   "id": "9da5b8df-0c1b-408b-93b1-b236bd7c39a7",
   "metadata": {},
   "source": [
    "#### **4.1 Investigating the rows with nulls in release_date, overview, and runtime**"
   ]
  },
  {
   "cell_type": "code",
   "execution_count": 10,
   "id": "32543d9a-20ba-4cf1-a9c0-51421fff04f7",
   "metadata": {
    "tags": []
   },
   "outputs": [
    {
     "data": {
      "text/html": [
       "<div>\n",
       "<style scoped>\n",
       "    .dataframe tbody tr th:only-of-type {\n",
       "        vertical-align: middle;\n",
       "    }\n",
       "\n",
       "    .dataframe tbody tr th {\n",
       "        vertical-align: top;\n",
       "    }\n",
       "\n",
       "    .dataframe thead th {\n",
       "        text-align: right;\n",
       "    }\n",
       "</style>\n",
       "<table border=\"1\" class=\"dataframe\">\n",
       "  <thead>\n",
       "    <tr style=\"text-align: right;\">\n",
       "      <th></th>\n",
       "      <th>budget</th>\n",
       "      <th>genres</th>\n",
       "      <th>homepage</th>\n",
       "      <th>id</th>\n",
       "      <th>keywords</th>\n",
       "      <th>original_language</th>\n",
       "      <th>original_title</th>\n",
       "      <th>overview</th>\n",
       "      <th>popularity</th>\n",
       "      <th>production_companies</th>\n",
       "      <th>production_countries</th>\n",
       "      <th>release_date</th>\n",
       "      <th>revenue</th>\n",
       "      <th>runtime</th>\n",
       "      <th>spoken_languages</th>\n",
       "      <th>status</th>\n",
       "      <th>tagline</th>\n",
       "      <th>title</th>\n",
       "      <th>vote_average</th>\n",
       "      <th>vote_count</th>\n",
       "    </tr>\n",
       "  </thead>\n",
       "  <tbody>\n",
       "    <tr>\n",
       "      <th>2656</th>\n",
       "      <td>15000000</td>\n",
       "      <td>[{\"id\": 18, \"name\": \"Drama\"}]</td>\n",
       "      <td>NaN</td>\n",
       "      <td>370980</td>\n",
       "      <td>[{\"id\": 717, \"name\": \"pope\"}, {\"id\": 5565, \"na...</td>\n",
       "      <td>it</td>\n",
       "      <td>Chiamatemi Francesco - Il Papa della gente</td>\n",
       "      <td>NaN</td>\n",
       "      <td>0.738646</td>\n",
       "      <td>[{\"name\": \"Taodue Film\", \"id\": 45724}]</td>\n",
       "      <td>[{\"iso_3166_1\": \"IT\", \"name\": \"Italy\"}]</td>\n",
       "      <td>2015-12-03</td>\n",
       "      <td>0</td>\n",
       "      <td>NaN</td>\n",
       "      <td>[{\"iso_639_1\": \"es\", \"name\": \"Espa\\u00f1ol\"}]</td>\n",
       "      <td>Released</td>\n",
       "      <td>NaN</td>\n",
       "      <td>Chiamatemi Francesco - Il Papa della gente</td>\n",
       "      <td>7.3</td>\n",
       "      <td>12</td>\n",
       "    </tr>\n",
       "    <tr>\n",
       "      <th>4140</th>\n",
       "      <td>2</td>\n",
       "      <td>[{\"id\": 99, \"name\": \"Documentary\"}]</td>\n",
       "      <td>NaN</td>\n",
       "      <td>459488</td>\n",
       "      <td>[{\"id\": 6027, \"name\": \"music\"}, {\"id\": 225822,...</td>\n",
       "      <td>en</td>\n",
       "      <td>To Be Frank, Sinatra at 100</td>\n",
       "      <td>NaN</td>\n",
       "      <td>0.050625</td>\n",
       "      <td>[{\"name\": \"Eyeline Entertainment\", \"id\": 60343}]</td>\n",
       "      <td>[{\"iso_3166_1\": \"GB\", \"name\": \"United Kingdom\"}]</td>\n",
       "      <td>2015-12-12</td>\n",
       "      <td>0</td>\n",
       "      <td>NaN</td>\n",
       "      <td>[]</td>\n",
       "      <td>Released</td>\n",
       "      <td>NaN</td>\n",
       "      <td>To Be Frank, Sinatra at 100</td>\n",
       "      <td>0.0</td>\n",
       "      <td>0</td>\n",
       "    </tr>\n",
       "    <tr>\n",
       "      <th>4431</th>\n",
       "      <td>913000</td>\n",
       "      <td>[{\"id\": 99, \"name\": \"Documentary\"}]</td>\n",
       "      <td>NaN</td>\n",
       "      <td>292539</td>\n",
       "      <td>[]</td>\n",
       "      <td>de</td>\n",
       "      <td>Food Chains</td>\n",
       "      <td>NaN</td>\n",
       "      <td>0.795698</td>\n",
       "      <td>[]</td>\n",
       "      <td>[]</td>\n",
       "      <td>2014-04-26</td>\n",
       "      <td>0</td>\n",
       "      <td>83.0</td>\n",
       "      <td>[{\"iso_639_1\": \"en\", \"name\": \"English\"}]</td>\n",
       "      <td>Released</td>\n",
       "      <td>NaN</td>\n",
       "      <td>Food Chains</td>\n",
       "      <td>7.4</td>\n",
       "      <td>8</td>\n",
       "    </tr>\n",
       "  </tbody>\n",
       "</table>\n",
       "</div>"
      ],
      "text/plain": [
       "        budget                               genres homepage      id  \\\n",
       "2656  15000000        [{\"id\": 18, \"name\": \"Drama\"}]      NaN  370980   \n",
       "4140         2  [{\"id\": 99, \"name\": \"Documentary\"}]      NaN  459488   \n",
       "4431    913000  [{\"id\": 99, \"name\": \"Documentary\"}]      NaN  292539   \n",
       "\n",
       "                                               keywords original_language  \\\n",
       "2656  [{\"id\": 717, \"name\": \"pope\"}, {\"id\": 5565, \"na...                it   \n",
       "4140  [{\"id\": 6027, \"name\": \"music\"}, {\"id\": 225822,...                en   \n",
       "4431                                                 []                de   \n",
       "\n",
       "                                  original_title overview  popularity  \\\n",
       "2656  Chiamatemi Francesco - Il Papa della gente      NaN    0.738646   \n",
       "4140                 To Be Frank, Sinatra at 100      NaN    0.050625   \n",
       "4431                                 Food Chains      NaN    0.795698   \n",
       "\n",
       "                                  production_companies  \\\n",
       "2656            [{\"name\": \"Taodue Film\", \"id\": 45724}]   \n",
       "4140  [{\"name\": \"Eyeline Entertainment\", \"id\": 60343}]   \n",
       "4431                                                []   \n",
       "\n",
       "                                  production_countries release_date  revenue  \\\n",
       "2656           [{\"iso_3166_1\": \"IT\", \"name\": \"Italy\"}]   2015-12-03        0   \n",
       "4140  [{\"iso_3166_1\": \"GB\", \"name\": \"United Kingdom\"}]   2015-12-12        0   \n",
       "4431                                                []   2014-04-26        0   \n",
       "\n",
       "      runtime                               spoken_languages    status  \\\n",
       "2656      NaN  [{\"iso_639_1\": \"es\", \"name\": \"Espa\\u00f1ol\"}]  Released   \n",
       "4140      NaN                                             []  Released   \n",
       "4431     83.0       [{\"iso_639_1\": \"en\", \"name\": \"English\"}]  Released   \n",
       "\n",
       "     tagline                                       title  vote_average  \\\n",
       "2656     NaN  Chiamatemi Francesco - Il Papa della gente           7.3   \n",
       "4140     NaN                 To Be Frank, Sinatra at 100           0.0   \n",
       "4431     NaN                                 Food Chains           7.4   \n",
       "\n",
       "      vote_count  \n",
       "2656          12  \n",
       "4140           0  \n",
       "4431           8  "
      ]
     },
     "execution_count": 10,
     "metadata": {},
     "output_type": "execute_result"
    }
   ],
   "source": [
    "overview_nulls = df[df['overview'].isnull()] ## returning rows with nulls in the overview column\n",
    "overview_nulls.head()"
   ]
  },
  {
   "cell_type": "code",
   "execution_count": 13,
   "id": "73c05976-5d8a-4dc7-b991-7cd343302da1",
   "metadata": {
    "tags": []
   },
   "outputs": [
    {
     "data": {
      "text/html": [
       "<div>\n",
       "<style scoped>\n",
       "    .dataframe tbody tr th:only-of-type {\n",
       "        vertical-align: middle;\n",
       "    }\n",
       "\n",
       "    .dataframe tbody tr th {\n",
       "        vertical-align: top;\n",
       "    }\n",
       "\n",
       "    .dataframe thead th {\n",
       "        text-align: right;\n",
       "    }\n",
       "</style>\n",
       "<table border=\"1\" class=\"dataframe\">\n",
       "  <thead>\n",
       "    <tr style=\"text-align: right;\">\n",
       "      <th></th>\n",
       "      <th>budget</th>\n",
       "      <th>genres</th>\n",
       "      <th>homepage</th>\n",
       "      <th>id</th>\n",
       "      <th>keywords</th>\n",
       "      <th>original_language</th>\n",
       "      <th>original_title</th>\n",
       "      <th>overview</th>\n",
       "      <th>popularity</th>\n",
       "      <th>production_companies</th>\n",
       "      <th>production_countries</th>\n",
       "      <th>release_date</th>\n",
       "      <th>revenue</th>\n",
       "      <th>runtime</th>\n",
       "      <th>spoken_languages</th>\n",
       "      <th>status</th>\n",
       "      <th>tagline</th>\n",
       "      <th>title</th>\n",
       "      <th>vote_average</th>\n",
       "      <th>vote_count</th>\n",
       "    </tr>\n",
       "  </thead>\n",
       "  <tbody>\n",
       "    <tr>\n",
       "      <th>4553</th>\n",
       "      <td>0</td>\n",
       "      <td>[]</td>\n",
       "      <td>NaN</td>\n",
       "      <td>380097</td>\n",
       "      <td>[]</td>\n",
       "      <td>en</td>\n",
       "      <td>America Is Still the Place</td>\n",
       "      <td>1971 post civil rights San Francisco seemed li...</td>\n",
       "      <td>0.0</td>\n",
       "      <td>[]</td>\n",
       "      <td>[]</td>\n",
       "      <td>NaN</td>\n",
       "      <td>0</td>\n",
       "      <td>0.0</td>\n",
       "      <td>[]</td>\n",
       "      <td>Released</td>\n",
       "      <td>NaN</td>\n",
       "      <td>America Is Still the Place</td>\n",
       "      <td>0.0</td>\n",
       "      <td>0</td>\n",
       "    </tr>\n",
       "  </tbody>\n",
       "</table>\n",
       "</div>"
      ],
      "text/plain": [
       "      budget genres homepage      id keywords original_language  \\\n",
       "4553       0     []      NaN  380097       []                en   \n",
       "\n",
       "                  original_title  \\\n",
       "4553  America Is Still the Place   \n",
       "\n",
       "                                               overview  popularity  \\\n",
       "4553  1971 post civil rights San Francisco seemed li...         0.0   \n",
       "\n",
       "     production_companies production_countries release_date  revenue  runtime  \\\n",
       "4553                   []                   []          NaN        0      0.0   \n",
       "\n",
       "     spoken_languages    status tagline                       title  \\\n",
       "4553               []  Released     NaN  America Is Still the Place   \n",
       "\n",
       "      vote_average  vote_count  \n",
       "4553           0.0           0  "
      ]
     },
     "execution_count": 13,
     "metadata": {},
     "output_type": "execute_result"
    }
   ],
   "source": [
    "release_date_nulls = df[df['release_date'].isnull()] ## returning rows with nulls in the release_date column\n",
    "release_date_nulls.head()"
   ]
  },
  {
   "cell_type": "code",
   "execution_count": 14,
   "id": "049d4993-3ec7-41fb-bf14-4c51452be7a5",
   "metadata": {
    "tags": []
   },
   "outputs": [
    {
     "data": {
      "text/html": [
       "<div>\n",
       "<style scoped>\n",
       "    .dataframe tbody tr th:only-of-type {\n",
       "        vertical-align: middle;\n",
       "    }\n",
       "\n",
       "    .dataframe tbody tr th {\n",
       "        vertical-align: top;\n",
       "    }\n",
       "\n",
       "    .dataframe thead th {\n",
       "        text-align: right;\n",
       "    }\n",
       "</style>\n",
       "<table border=\"1\" class=\"dataframe\">\n",
       "  <thead>\n",
       "    <tr style=\"text-align: right;\">\n",
       "      <th></th>\n",
       "      <th>budget</th>\n",
       "      <th>genres</th>\n",
       "      <th>homepage</th>\n",
       "      <th>id</th>\n",
       "      <th>keywords</th>\n",
       "      <th>original_language</th>\n",
       "      <th>original_title</th>\n",
       "      <th>overview</th>\n",
       "      <th>popularity</th>\n",
       "      <th>production_companies</th>\n",
       "      <th>production_countries</th>\n",
       "      <th>release_date</th>\n",
       "      <th>revenue</th>\n",
       "      <th>runtime</th>\n",
       "      <th>spoken_languages</th>\n",
       "      <th>status</th>\n",
       "      <th>tagline</th>\n",
       "      <th>title</th>\n",
       "      <th>vote_average</th>\n",
       "      <th>vote_count</th>\n",
       "    </tr>\n",
       "  </thead>\n",
       "  <tbody>\n",
       "    <tr>\n",
       "      <th>2656</th>\n",
       "      <td>15000000</td>\n",
       "      <td>[{\"id\": 18, \"name\": \"Drama\"}]</td>\n",
       "      <td>NaN</td>\n",
       "      <td>370980</td>\n",
       "      <td>[{\"id\": 717, \"name\": \"pope\"}, {\"id\": 5565, \"na...</td>\n",
       "      <td>it</td>\n",
       "      <td>Chiamatemi Francesco - Il Papa della gente</td>\n",
       "      <td>NaN</td>\n",
       "      <td>0.738646</td>\n",
       "      <td>[{\"name\": \"Taodue Film\", \"id\": 45724}]</td>\n",
       "      <td>[{\"iso_3166_1\": \"IT\", \"name\": \"Italy\"}]</td>\n",
       "      <td>2015-12-03</td>\n",
       "      <td>0</td>\n",
       "      <td>NaN</td>\n",
       "      <td>[{\"iso_639_1\": \"es\", \"name\": \"Espa\\u00f1ol\"}]</td>\n",
       "      <td>Released</td>\n",
       "      <td>NaN</td>\n",
       "      <td>Chiamatemi Francesco - Il Papa della gente</td>\n",
       "      <td>7.3</td>\n",
       "      <td>12</td>\n",
       "    </tr>\n",
       "    <tr>\n",
       "      <th>4140</th>\n",
       "      <td>2</td>\n",
       "      <td>[{\"id\": 99, \"name\": \"Documentary\"}]</td>\n",
       "      <td>NaN</td>\n",
       "      <td>459488</td>\n",
       "      <td>[{\"id\": 6027, \"name\": \"music\"}, {\"id\": 225822,...</td>\n",
       "      <td>en</td>\n",
       "      <td>To Be Frank, Sinatra at 100</td>\n",
       "      <td>NaN</td>\n",
       "      <td>0.050625</td>\n",
       "      <td>[{\"name\": \"Eyeline Entertainment\", \"id\": 60343}]</td>\n",
       "      <td>[{\"iso_3166_1\": \"GB\", \"name\": \"United Kingdom\"}]</td>\n",
       "      <td>2015-12-12</td>\n",
       "      <td>0</td>\n",
       "      <td>NaN</td>\n",
       "      <td>[]</td>\n",
       "      <td>Released</td>\n",
       "      <td>NaN</td>\n",
       "      <td>To Be Frank, Sinatra at 100</td>\n",
       "      <td>0.0</td>\n",
       "      <td>0</td>\n",
       "    </tr>\n",
       "  </tbody>\n",
       "</table>\n",
       "</div>"
      ],
      "text/plain": [
       "        budget                               genres homepage      id  \\\n",
       "2656  15000000        [{\"id\": 18, \"name\": \"Drama\"}]      NaN  370980   \n",
       "4140         2  [{\"id\": 99, \"name\": \"Documentary\"}]      NaN  459488   \n",
       "\n",
       "                                               keywords original_language  \\\n",
       "2656  [{\"id\": 717, \"name\": \"pope\"}, {\"id\": 5565, \"na...                it   \n",
       "4140  [{\"id\": 6027, \"name\": \"music\"}, {\"id\": 225822,...                en   \n",
       "\n",
       "                                  original_title overview  popularity  \\\n",
       "2656  Chiamatemi Francesco - Il Papa della gente      NaN    0.738646   \n",
       "4140                 To Be Frank, Sinatra at 100      NaN    0.050625   \n",
       "\n",
       "                                  production_companies  \\\n",
       "2656            [{\"name\": \"Taodue Film\", \"id\": 45724}]   \n",
       "4140  [{\"name\": \"Eyeline Entertainment\", \"id\": 60343}]   \n",
       "\n",
       "                                  production_countries release_date  revenue  \\\n",
       "2656           [{\"iso_3166_1\": \"IT\", \"name\": \"Italy\"}]   2015-12-03        0   \n",
       "4140  [{\"iso_3166_1\": \"GB\", \"name\": \"United Kingdom\"}]   2015-12-12        0   \n",
       "\n",
       "      runtime                               spoken_languages    status  \\\n",
       "2656      NaN  [{\"iso_639_1\": \"es\", \"name\": \"Espa\\u00f1ol\"}]  Released   \n",
       "4140      NaN                                             []  Released   \n",
       "\n",
       "     tagline                                       title  vote_average  \\\n",
       "2656     NaN  Chiamatemi Francesco - Il Papa della gente           7.3   \n",
       "4140     NaN                 To Be Frank, Sinatra at 100           0.0   \n",
       "\n",
       "      vote_count  \n",
       "2656          12  \n",
       "4140           0  "
      ]
     },
     "execution_count": 14,
     "metadata": {},
     "output_type": "execute_result"
    }
   ],
   "source": [
    "runtime_nulls = df[df['runtime'].isnull()] ## returning rows with nulls in the runtime column\n",
    "runtime_nulls.head()"
   ]
  },
  {
   "cell_type": "markdown",
   "id": "3da338e7-bb8b-4230-9e0b-41208a30e52c",
   "metadata": {},
   "source": [
    "#### **4.2 Dropping the rows with nulls**\n",
    "* These rows were also found to have strange values such as zero or empty lists in other columns\n",
    "* Two of the rows had nulls in both the runtime, and the overview column\n",
    "* Only a small number of rows that have little affect on the rest of the data so can be dropped\n",
    "* Nulls in tagline and homepage columns ignored as missingness is MCAR and irrelevant for analysis"
   ]
  },
  {
   "cell_type": "code",
   "execution_count": 15,
   "id": "cef84a30-963a-41ab-ab1c-a645ae6c2478",
   "metadata": {
    "tags": []
   },
   "outputs": [],
   "source": [
    "\n",
    "df.dropna(\n",
    "    axis = 0,  ## dropping rows\n",
    "    how = 'any',  ## drops rows with any nulls in the selected columns,rather than nulls across all of them\n",
    "    subset = ['overview', 'release_date', 'runtime'],  ## selecting specific columns\n",
    "    inplace = True) ## modifying the dataframe rather than making a copy "
   ]
  },
  {
   "cell_type": "code",
   "execution_count": 16,
   "id": "83c73ff0-e549-4356-9e12-a7e5121cb3cd",
   "metadata": {
    "tags": []
   },
   "outputs": [
    {
     "data": {
      "text/plain": [
       "(4799, 20)"
      ]
     },
     "execution_count": 16,
     "metadata": {},
     "output_type": "execute_result"
    }
   ],
   "source": [
    "df.shape  ## check for rows and columns again "
   ]
  },
  {
   "cell_type": "markdown",
   "id": "9cf3a42a-245f-4fdb-869d-1be8e31efa0a",
   "metadata": {
    "tags": []
   },
   "source": [
    "### **5.0 Altering table for easier analysis**"
   ]
  },
  {
   "cell_type": "markdown",
   "id": "6099f8b0-9888-4eb0-94c6-f8449bba72d4",
   "metadata": {},
   "source": [
    "#### **5.1 Extracting the genre values from the dictionaries they are in and creating a new column with these values in as a string.**"
   ]
  },
  {
   "cell_type": "code",
   "execution_count": 17,
   "id": "30258af9-2893-4487-94ad-fdb2540232f9",
   "metadata": {
    "tags": []
   },
   "outputs": [],
   "source": [
    "def extract_genres(movie):  ## Code written by Alex on discord\n",
    "    ''' Take a single movie's genres and make them into a comma separated string '''\n",
    "    movie = ast.literal_eval(movie) ## make sure it's a list!\n",
    "    \n",
    "    genres = [x['name'] for x in movie] ## Get a list of all genres\n",
    "    \n",
    "    return \",\".join(genres) ## Join them all together as a string\n",
    "## Function to extract the values from the dictionaries in the genres column"
   ]
  },
  {
   "cell_type": "code",
   "execution_count": 18,
   "id": "a1d6e8c2-7b22-46e9-9b53-7e168a05a871",
   "metadata": {
    "tags": []
   },
   "outputs": [],
   "source": [
    "df['extracted_genres'] = df['genres'].apply(extract_genres)\n",
    "## Using the function to create a new column called extracted_genres"
   ]
  },
  {
   "cell_type": "markdown",
   "id": "3937cc09-4473-451e-9bbe-ff26a923dee0",
   "metadata": {},
   "source": [
    "#### **5.2 Doing the same for countries**"
   ]
  },
  {
   "cell_type": "code",
   "execution_count": 19,
   "id": "ba2fb0f9-9dad-4fcc-894c-ef3197c9cf45",
   "metadata": {
    "tags": []
   },
   "outputs": [],
   "source": [
    "df['extracted_production_countries'] = df['production_countries'].apply(extract_genres)"
   ]
  },
  {
   "cell_type": "markdown",
   "id": "c7c0ad00-7a50-4b9a-ac96-064a85c5f7a9",
   "metadata": {},
   "source": [
    "#### **5.3 Converting the comma seperated strings in these new columns into lists**"
   ]
  },
  {
   "cell_type": "code",
   "execution_count": null,
   "id": "9b9429aa-0eed-4837-84b1-9af05cef5434",
   "metadata": {
    "tags": []
   },
   "outputs": [],
   "source": [
    "df['extracted_genres'] = df['extracted_genres'].str.split(',')\n",
    "df['extracted_production_countries'] = df['extracted_production_countries'].str.split(',')"
   ]
  },
  {
   "cell_type": "markdown",
   "id": "7f4d7890-c3c5-41f1-98c3-c3d2a88d4c40",
   "metadata": {},
   "source": [
    "#### **5.4 Exploding these lists using the .explode() method to group by genre/production country and give a count**"
   ]
  },
  {
   "cell_type": "code",
   "execution_count": null,
   "id": "0e965305-0dea-40cc-b1d1-ac2b63b68058",
   "metadata": {
    "tags": []
   },
   "outputs": [],
   "source": [
    "##Solution of using the .explode() method found using generative AI\n",
    "g_exploded = df.explode('extracted_genres') ##exploding the lists into individual rows\n",
    "genre_counts = g_exploded['extracted_genres'].value_counts().reset_index() ## Creating a count\n",
    "genre_counts.columns = ['Genre', 'Count'] ## Putting the new data into a new dataframe "
   ]
  },
  {
   "cell_type": "code",
   "execution_count": null,
   "id": "b2e813bd-3a55-4bca-8e25-47efffe95b86",
   "metadata": {
    "tags": []
   },
   "outputs": [],
   "source": [
    "## Doing the same for countries \n",
    "c_exploded = df.explode('extracted_production_countries')\n",
    "country_counts = c_exploded['extracted_production_countries'].value_counts().reset_index()\n",
    "country_counts.columns = ['Production_country', 'Count']"
   ]
  },
  {
   "cell_type": "code",
   "execution_count": null,
   "id": "931216c7-eae3-44d4-afac-a278482d547c",
   "metadata": {
    "tags": []
   },
   "outputs": [],
   "source": [
    "genre_counts\n",
    "## count of 27 for \" \""
   ]
  },
  {
   "cell_type": "code",
   "execution_count": null,
   "id": "920604f5-7a05-4c0a-9d27-7cdec7154a0e",
   "metadata": {
    "tags": []
   },
   "outputs": [],
   "source": [
    "country_counts"
   ]
  },
  {
   "cell_type": "markdown",
   "id": "77e190d8-254f-4903-89a9-e600bef5386f",
   "metadata": {
    "tags": []
   },
   "source": [
    "### **6.0 conducting visualisations and analysis**"
   ]
  },
  {
   "cell_type": "markdown",
   "id": "90e4ad98-cdf8-4234-ba42-e2a9c35217ae",
   "metadata": {
    "tags": []
   },
   "source": [
    "#### **6.1 Checking for any strong correlations between numerical columns**\n",
    "* vote_count is correlated to popularity and revenue at 0.78\n",
    "* budget and revenue are also positively correlated at 0.73 suggesting films with larger budgets are more likely to yeild higher revenue\n",
    "* No significantly negative correlations"
   ]
  },
  {
   "cell_type": "code",
   "execution_count": null,
   "id": "079e4cb3-e0f2-4f5f-aa0d-3f6d33a671b8",
   "metadata": {
    "tags": []
   },
   "outputs": [],
   "source": [
    "sns.heatmap(df.corr(numeric_only=True),\n",
    "            annot = True,\n",
    "            cmap = 'crest', \n",
    "            center = 0)"
   ]
  },
  {
   "cell_type": "markdown",
   "id": "19005f30-26ad-4a0a-a6f3-950514cf0f7c",
   "metadata": {
    "tags": []
   },
   "source": [
    "#### **6.2 The relationship between budget and revenue**"
   ]
  },
  {
   "cell_type": "markdown",
   "id": "fc9d45dd-a765-4904-8a59-319e949add3d",
   "metadata": {},
   "source": [
    "* Overall positive trend as shown in the heat map\n",
    "* **KEY POINT 1** - the film with the highest revenue is so succesful it is a clear outlier gorssing over half a million more than the second highest"
   ]
  },
  {
   "cell_type": "code",
   "execution_count": null,
   "id": "d8411eb9-caf8-4dbd-ab8b-62aa07232ebc",
   "metadata": {
    "tags": []
   },
   "outputs": [],
   "source": [
    "plt.figure (figsize = (10,10))\n",
    "sns.lmplot(data = df,\n",
    "           x = 'budget',\n",
    "           y = 'revenue')\n",
    "plt.show()"
   ]
  },
  {
   "cell_type": "markdown",
   "id": "ebb1ef80-fe51-45bc-bd62-8cf822e40c76",
   "metadata": {
    "tags": []
   },
   "source": [
    "#### **6.3 Top 5 Countries by Count of Film**"
   ]
  },
  {
   "cell_type": "code",
   "execution_count": null,
   "id": "3ea885a1-23eb-47eb-b08a-70c1c648788e",
   "metadata": {
    "tags": []
   },
   "outputs": [],
   "source": [
    "sorted_country_counts = country_counts.sort_values(by='Count', ascending=False)  ## Sorting the count of films by country\n",
    "top_5_countries = sorted_country_counts.head(5) ## assigning the top 5 to a variable\n"
   ]
  },
  {
   "cell_type": "code",
   "execution_count": null,
   "id": "d42df4bd-ada8-4def-ba17-4193be116af3",
   "metadata": {
    "tags": []
   },
   "outputs": [],
   "source": [
    "## Creating a barplot of the the count of films for the top 5 countries \n",
    "sns.barplot(data = top_5_countries,\n",
    "            x = 'Production_country',\n",
    "            y = 'Count',\n",
    "            palette = 'crest')\n",
    "plt.title('Top 5 Films by Film Production')\n",
    "plt.xticks(rotation = 45,\n",
    "           horizontalalignment = 'right',\n",
    "           fontweight = 'light',\n",
    "           fontsize = 'large',\n",
    "          )\n",
    "plt.show()"
   ]
  },
  {
   "cell_type": "markdown",
   "id": "1648e687-7f4c-45d1-b50b-28118af9805f",
   "metadata": {},
   "source": [
    "* **KEY POINT 2** The United States of America is dominating the dataset, having produced 3,956 films\n",
    "* This accounts for having been involved with the prdoduction of 82% of films in the dataset"
   ]
  },
  {
   "cell_type": "code",
   "execution_count": null,
   "id": "51febd7a-dd82-4734-974e-2f6a5cc7e05f",
   "metadata": {
    "tags": []
   },
   "outputs": [],
   "source": [
    "country_counts['percentage'] = round((country_counts['Count'] / 4799) * 100)  ## count of films produced in the USA / Count of films in the database to give a percentage\n",
    "country_counts.head(1)"
   ]
  },
  {
   "cell_type": "markdown",
   "id": "eb0b6400-27ab-49fd-8a1d-83b0057f8fea",
   "metadata": {
    "tags": []
   },
   "source": [
    "### **8.0 Movie Anlaysis**"
   ]
  },
  {
   "cell_type": "markdown",
   "id": "ccae5423-7704-4fdd-8a15-b10615c69143",
   "metadata": {},
   "source": [
    "#### **8.1 The highest grossing film**"
   ]
  },
  {
   "cell_type": "code",
   "execution_count": null,
   "id": "5c1122e2-78a1-4574-bbb4-040ed5f4ce62",
   "metadata": {
    "tags": []
   },
   "outputs": [],
   "source": [
    "highest_grossing_film = df[['title', 'budget', 'popularity', 'revenue', 'vote_average']].sort_values('revenue', ascending = False).head(1).copy()  \n",
    "## Creating a new data frame with selected columns and sorting by highest revenue and limiting to one"
   ]
  },
  {
   "cell_type": "code",
   "execution_count": null,
   "id": "eb337b85-e8e3-4d72-8281-6f4988101662",
   "metadata": {
    "tags": []
   },
   "outputs": [],
   "source": [
    "highest_grossing_film['profit'] = highest_grossing_film['revenue'] - highest_grossing_film['budget']\n",
    "highest_grossing_film\n",
    "## creating a profit column: revenue - budget"
   ]
  },
  {
   "cell_type": "code",
   "execution_count": null,
   "id": "7d5880ba-ec05-4a0d-ade1-bbb92b18b178",
   "metadata": {
    "tags": []
   },
   "outputs": [],
   "source": [
    "average_rating = round(df['vote_average'].mean().copy(), 2)\n",
    "average_rating\n",
    "## finding the average rating"
   ]
  },
  {
   "cell_type": "markdown",
   "id": "adc85fa0-0ac9-4420-b4d8-9d7a900ff7b5",
   "metadata": {},
   "source": [
    "* The film with the highest revenue in the dataset is Avatar\n",
    "* Budget = 237 Million\n",
    "* Revenue = 2.8 billion\n",
    "* It made a profit of just over 2.5 billion\n",
    "* It has an significantly above average rating (6.09) with 7.2"
   ]
  },
  {
   "cell_type": "markdown",
   "id": "6ac16e17-5634-4517-be57-6e0c07fd6bae",
   "metadata": {},
   "source": [
    "#### **8.2 The Worst Rated Film**"
   ]
  },
  {
   "cell_type": "code",
   "execution_count": null,
   "id": "49dd7e93-c9dd-4987-8a9a-3389064260aa",
   "metadata": {
    "tags": []
   },
   "outputs": [],
   "source": [
    "worst_rated_film = df[['title', 'budget', 'popularity', 'revenue', 'vote_average', 'vote_count']].where(df['vote_count'] > 1000).sort_values('vote_average', ascending = True).head(1).copy()\n",
    "## Creating a new data frame with selected columns and sorting by lowest vote_average and limiting to one\n",
    "worst_rated_film['profit'] = worst_rated_film['revenue'] - worst_rated_film['budget']\n",
    "## creating another profit column\n",
    "worst_rated_film"
   ]
  },
  {
   "cell_type": "markdown",
   "id": "ae0d3983-0003-49a7-9e18-1626cff9a298",
   "metadata": {},
   "source": [
    "* The worst rated film in the dataset is The Boy Next Door\n",
    "* It is rated a 4.1 which is over below the average for the dataset by 2.3!\n",
    "* It managed to make a profit of around 48.5 million which is impressive considering it had a budget of 4 million"
   ]
  },
  {
   "cell_type": "code",
   "execution_count": null,
   "id": "66ff559d-fbdb-4a92-86c6-872b02922621",
   "metadata": {
    "tags": []
   },
   "outputs": [],
   "source": [
    "## Creating a set to find duplicates \n",
    "unique_id = set(df.id)\n",
    "\n",
    "len(unique_id)"
   ]
  },
  {
   "cell_type": "code",
   "execution_count": null,
   "id": "c53bb480-3e58-4ada-b04c-649f1a805cb0",
   "metadata": {
    "tags": []
   },
   "outputs": [],
   "source": [
    "unique_title = set(df.title)\n",
    "\n",
    "len(unique_title)"
   ]
  },
  {
   "cell_type": "code",
   "execution_count": null,
   "id": "7c62c767-c529-4c9b-a658-87fb320655f2",
   "metadata": {
    "tags": []
   },
   "outputs": [],
   "source": [
    "## Double checking for any more potential duplicates in the title column\n",
    "## Creating a new set to add the stripped lower case titles to\n",
    "title_set = set()\n",
    "\n",
    "## Lowercasing and stripping titles to avoid\n",
    "for title in unique_title:\n",
    "    title_set.add(title.lower().strip())\n",
    "\n",
    "## Checking the length of the set again\n",
    "len(title_set)\n",
    "\n",
    "## Length is still the same"
   ]
  },
  {
   "cell_type": "markdown",
   "id": "be323fb7-9b21-4be1-b9f7-9e09d7853263",
   "metadata": {},
   "source": [
    "Number of rows = 4799\n",
    "* We have 3 rows with the same title\n",
    "* IDs are all unique"
   ]
  },
  {
   "cell_type": "code",
   "execution_count": null,
   "id": "0b453f51-9514-4770-9089-fc4937868525",
   "metadata": {
    "tags": []
   },
   "outputs": [],
   "source": [
    "df2 = df[df['title'].duplicated() == True] ##creating a df of the duplicates to investigate at a later time\n",
    "df2"
   ]
  }
 ],
 "metadata": {
  "kernelspec": {
   "display_name": "Python 3 (ipykernel)",
   "language": "python",
   "name": "python3"
  },
  "language_info": {
   "codemirror_mode": {
    "name": "ipython",
    "version": 3
   },
   "file_extension": ".py",
   "mimetype": "text/x-python",
   "name": "python",
   "nbconvert_exporter": "python",
   "pygments_lexer": "ipython3",
   "version": "3.11.5"
  }
 },
 "nbformat": 4,
 "nbformat_minor": 5
}
